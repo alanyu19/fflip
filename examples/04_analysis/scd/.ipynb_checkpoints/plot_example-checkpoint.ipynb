{
 "cells": [
  {
   "cell_type": "code",
   "execution_count": 1,
   "metadata": {},
   "outputs": [],
   "source": [
    "import os\n",
    "import glob\n",
    "import numpy as np\n",
    "from matplotlib import pyplot as plt\n",
    "from plotutil import *\n",
    "\n",
    "os.environ[\"PATH\"] += os.pathsep + '/Library/TeX/texbin'\n",
    "plt.rc('text', usetex=True)"
   ]
  },
  {
   "cell_type": "code",
   "execution_count": 2,
   "metadata": {},
   "outputs": [],
   "source": [
    "def compare_scd_cer(\n",
    "    res, systems, chain, save=False, ymax=0.5,\n",
    "    get_name_folder='scd_up'\n",
    "):\n",
    "    xs, fnames = get_x_file_cer(res, get_name_folder)\n",
    "    return 1\n",
    "    c2s, c3s, dic = sort_names_cer(xs, fnames)\n",
    "    plt.figure(figsize=(6, 4))\n",
    "    plt.rc('font', size=14)\n",
    "    for i, sys in enumerate(systems):\n",
    "        if sys == 'plant.outer':\n",
    "            folder = './data/plant*/*/scd_up/'\n",
    "        elif sys == 'outer':\n",
    "            folder = './data/outer*/*/allscd/'\n",
    "        c2s_scd = []\n",
    "        c2s_err = []\n",
    "        c3s_scd = []\n",
    "        c3s_err = []\n",
    "        for c in c2s:\n",
    "            data = []\n",
    "            files = glob.glob(folder + '{}.scd'.format(dic[c]))\n",
    "            for f in files:\n",
    "                data.append(np.loadtxt(f))\n",
    "            data = np.array(data)\n",
    "            mean = data.mean()\n",
    "            err = data.std() / np.sqrt(data.shape[0])\n",
    "            c2s_scd.append(np.abs(mean))\n",
    "            c2s_err.append(err)\n",
    "        for c in c3s:\n",
    "            data = []\n",
    "            files = glob.glob(folder + '{}.scd'.format(dic[c]))\n",
    "            for f in files:\n",
    "                data.append(np.loadtxt(f))\n",
    "            data = np.array(data)\n",
    "            mean = data.mean()\n",
    "            err = data.std() / np.sqrt(data.shape[0])\n",
    "            c3s_scd.append(np.abs(mean))\n",
    "            c3s_err.append(err)\n",
    "        if chain == 2:\n",
    "            plt.errorbar(\n",
    "                np.arange(0, len(c2s)), c2s_scd, yerr=c2s_err, \n",
    "                fmt='s', label=sys, fillstyle='none', color=colors[i]\n",
    "            )\n",
    "            ticks = []\n",
    "            for c in c2s:\n",
    "                ticks.append(c[1:-1])\n",
    "            plt.xticks(np.arange(0, len(c2s)), ticks, fontsize=20, rotation=90)\n",
    "        if chain == 3:\n",
    "            plt.errorbar(\n",
    "                np.arange(0, len(c3s)), c3s_scd, yerr=c3s_err, \n",
    "                fmt='s', label=sys, fillstyle='none', color=colors[i]\n",
    "            )\n",
    "            ticks = []\n",
    "            for c in c3s:\n",
    "                ticks.append(c[1:-1])\n",
    "            plt.xticks(np.arange(0, len(c3s)), ticks, fontsize=20, rotation=90)\n",
    "    plt.legend(loc=(0.3, 0.05), fontsize=18)\n",
    "\n",
    "    plt.yticks(np.arange(0, 0.51, 0.1), fontsize=20)\n",
    "    plt.title(title, pad=-17, fontsize=18)\n",
    "    plt.ylim(-0.03, ymax)\n",
    "    if save:\n",
    "        plt.savefig('{}.png'.format(save), dpi=330, bbox_inches='tight')\n",
    "        # plt.savefig('avgvalue.png'.format(save), dpi=330, bbox_inches='tight')\n",
    "    plt.show()\n",
    "    plt.close()"
   ]
  },
  {
   "cell_type": "code",
   "execution_count": 3,
   "metadata": {
    "scrolled": false
   },
   "outputs": [],
   "source": [
    "# compare_scd_cer('cet161', ['outer', 'plant.outer'], chain=3, ymax=0.5, title='CER2', save='cet161_sn1')"
   ]
  },
  {
   "cell_type": "code",
   "execution_count": 4,
   "metadata": {
    "scrolled": false
   },
   "outputs": [],
   "source": [
    "# compare_scd_cer('cet161', ['outer', 'plant.outer'], chain=2, ymax=0.5, title='CER2',save='cet161_sn2')"
   ]
  },
  {
   "cell_type": "code",
   "execution_count": 5,
   "metadata": {
    "scrolled": false
   },
   "outputs": [],
   "source": [
    "# compare_scd_cer('cet160', ['outer', 'plant.outer'], chain=3, ymax=0.5, title='CER1', save='cet160_sn1')"
   ]
  },
  {
   "cell_type": "code",
   "execution_count": 6,
   "metadata": {},
   "outputs": [],
   "source": [
    "# compare_scd_cer('cet160', ['outer', 'plant.outer'], chain=2, ymax=0.5, title='CER1', save='cet160_sn2')"
   ]
  },
  {
   "cell_type": "code",
   "execution_count": 7,
   "metadata": {
    "scrolled": true
   },
   "outputs": [],
   "source": [
    "# compare_scd('DLiPE', ['inner', 'outer', 'plant.inner', 'plant.outer'], chain=2, save='dlipe_sn2')"
   ]
  },
  {
   "cell_type": "code",
   "execution_count": 8,
   "metadata": {},
   "outputs": [],
   "source": [
    "# compare_scd('DLiPE', ['inner', 'outer', 'plant.inner', 'plant.outer'], chain=3, save='dlipe_sn1')"
   ]
  },
  {
   "cell_type": "code",
   "execution_count": 9,
   "metadata": {},
   "outputs": [],
   "source": [
    "# compare_scd('PLPC', ['inner', 'outer', 'plant.inner', 'plant.outer'], chain=2, save='plpc_sn2')"
   ]
  },
  {
   "cell_type": "code",
   "execution_count": 11,
   "metadata": {
    "scrolled": false
   },
   "outputs": [
    {
     "ename": "TypeError",
     "evalue": "compare_scd_cer() missing 1 required positional argument: 'title'",
     "output_type": "error",
     "traceback": [
      "\u001b[0;31m---------------------------------------------------------------------------\u001b[0m",
      "\u001b[0;31mTypeError\u001b[0m                                 Traceback (most recent call last)",
      "Cell \u001b[0;32mIn[11], line 1\u001b[0m\n\u001b[0;32m----> 1\u001b[0m \u001b[43mcompare_scd_cer\u001b[49m\u001b[43m(\u001b[49m\u001b[38;5;124;43m'\u001b[39;49m\u001b[38;5;124;43mPLPC\u001b[39;49m\u001b[38;5;124;43m'\u001b[39;49m\u001b[43m,\u001b[49m\u001b[43m \u001b[49m\u001b[43m[\u001b[49m\u001b[38;5;124;43m'\u001b[39;49m\u001b[38;5;124;43minner\u001b[39;49m\u001b[38;5;124;43m'\u001b[39;49m\u001b[43m,\u001b[49m\u001b[43m \u001b[49m\u001b[38;5;124;43m'\u001b[39;49m\u001b[38;5;124;43mouter\u001b[39;49m\u001b[38;5;124;43m'\u001b[39;49m\u001b[43m,\u001b[49m\u001b[43m \u001b[49m\u001b[38;5;124;43m'\u001b[39;49m\u001b[38;5;124;43mplant.inner\u001b[39;49m\u001b[38;5;124;43m'\u001b[39;49m\u001b[43m,\u001b[49m\u001b[43m \u001b[49m\u001b[38;5;124;43m'\u001b[39;49m\u001b[38;5;124;43mplant.outer\u001b[39;49m\u001b[38;5;124;43m'\u001b[39;49m\u001b[43m]\u001b[49m\u001b[43m,\u001b[49m\u001b[43m \u001b[49m\u001b[43mchain\u001b[49m\u001b[38;5;241;43m=\u001b[39;49m\u001b[38;5;241;43m3\u001b[39;49m\u001b[43m,\u001b[49m\u001b[43m \u001b[49m\u001b[43msave\u001b[49m\u001b[38;5;241;43m=\u001b[39;49m\u001b[38;5;124;43m'\u001b[39;49m\u001b[38;5;124;43mplpc_sn1\u001b[39;49m\u001b[38;5;124;43m'\u001b[39;49m\u001b[43m)\u001b[49m\n",
      "\u001b[0;31mTypeError\u001b[0m: compare_scd_cer() missing 1 required positional argument: 'title'"
     ]
    }
   ],
   "source": [
    "compare_scd_cer('PLPC', ['inner', 'outer', 'plant.inner', 'plant.outer'], chain=3, save='plpc_sn1')"
   ]
  },
  {
   "cell_type": "code",
   "execution_count": null,
   "metadata": {},
   "outputs": [],
   "source": []
  }
 ],
 "metadata": {
  "kernelspec": {
   "display_name": "Python 3 (ipykernel)",
   "language": "python",
   "name": "python3"
  },
  "language_info": {
   "codemirror_mode": {
    "name": "ipython",
    "version": 3
   },
   "file_extension": ".py",
   "mimetype": "text/x-python",
   "name": "python",
   "nbconvert_exporter": "python",
   "pygments_lexer": "ipython3",
   "version": "3.8.18"
  }
 },
 "nbformat": 4,
 "nbformat_minor": 2
}
